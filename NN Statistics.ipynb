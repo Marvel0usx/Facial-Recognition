{
 "cells": [
  {
   "cell_type": "code",
   "execution_count": 46,
   "metadata": {},
   "outputs": [],
   "source": [
    "import numpy as np\n",
    "import seaborn as sns\n",
    "from db.DataAccessObject import DataAccessObject\n",
    "from sklearn.metrics import roc_curve, roc_auc_score, classification_report\n",
    "from sklearn.metrics import confusion_matrix as cm\n",
    "from sklearn.linear_model import LogisticRegression\n",
    "import pickle"
   ]
  },
  {
   "cell_type": "code",
   "execution_count": 35,
   "metadata": {},
   "outputs": [],
   "source": [
    "PATH = \"./analysis/\"\n",
    "IMG_PATH = \"./analysis/\""
   ]
  },
  {
   "cell_type": "code",
   "execution_count": 3,
   "metadata": {},
   "outputs": [],
   "source": [
    "# Preparing data and trained models.\n",
    "nn_gender = pickle.load(open(PATH + \"nn_gender.dat\", \"rb\"))\n",
    "nn_age = pickle.load(open(PATH + \"nn_age.dat\", \"rb\"))\n",
    "nn_ethnicity = pickle.load(open(PATH + \"nn_ethnicity.dat\", \"rb\"))\n",
    "\n",
    "dataset = DataAccessObject(database=\"local\", collection=\"grayscale\")\n",
    "cursor = dataset.get_X_y_pair(20000, 0, **{\"gender\": True, \"age\": True, \"ethnicity\": True})\n",
    "\n",
    "X = []\n",
    "y_gender = []\n",
    "y_age = []\n",
    "y_ethnicity = []\n",
    "\n",
    "for raw_data in cursor:\n",
    "    X.append(raw_data[\"pixels\"])\n",
    "    y_gender.append(raw_data[\"gender\"])\n",
    "    y_age.append(raw_data[\"age\"])\n",
    "    y_ethnicity.append(raw_data[\"ethnicity\"])\n",
    "\n",
    "X = np.array(X)\n",
    "\n",
    "y_hat_gender_label = nn_gender.predict(X)\n",
    "\n",
    "y_hat_gender = nn_gender.predict(X)\n",
    "y_hat_age = nn_age.predict(X)\n",
    "y_hat_ethnicity = nn_ethnicity.predict(X)"
   ]
  },
  {
   "cell_type": "code",
   "execution_count": 20,
   "metadata": {},
   "outputs": [],
   "source": [
    "# Confusion matrix and heatmap.\n",
    "def confusion_matrix(y_hat, y_truth, criterion):\n",
    "    \"\"\"Function that returns the confusion matrix of the given data set.\"\"\"\n",
    "    tp = tn = fp = fn = 0\n",
    "    # Calculate for True Positive\n",
    "    for idx in range(len(y_hat)):\n",
    "        if y_truth[idx] == criterion:\n",
    "            if y_hat[idx] == y_truth[idx]:\n",
    "                tp += 1\n",
    "            else:\n",
    "                fp += 1\n",
    "        else:\n",
    "            if y_hat[idx] == y_truth[idx]:\n",
    "                tn += 1\n",
    "            else:\n",
    "                fn += 1\n",
    "\n",
    "    print(f\"----- Confusion Matrix -----\")\n",
    "    print(f\"True Negative: {tn} False Positive: {fp}\")\n",
    "    print(f\"False Negative: {fn} True Positive: {tp}\")\n",
    "    return tp, fp, tn, fn"
   ]
  },
  {
   "cell_type": "code",
   "execution_count": 39,
   "metadata": {},
   "outputs": [],
   "source": [
    "def plot_confusion_matrix(true_negative, false_positive, false_negative, true_positive, axis_labels=[]):\n",
    "    total = true_positive + false_positive\n",
    "    data = np.array([[true_negative, false_positive], [false_negative, true_positive]])\n",
    "    labels = np.asarray([f\"True Neg\\n{true_negative}\\n{true_negative / total:.2%}\",\n",
    "                         f\"False Pos\\n{false_positive}\\n{false_positive / total:.2%}\",\n",
    "                         f\"False Neg\\n{false_negative}\\n{false_negative / total:.2%}\",\n",
    "                         f\"True Pos\\n{true_positive}\\n{true_positive / total:.2%}\"]\n",
    "                        ).reshape((2, 2))\n",
    "    fig = sns.heatmap(data, annot=labels, xticklabels=axis_labels, yticklabels=axis_labels,\n",
    "                      fmt=\"\", cmap=\"Blues\").get_figure()\n",
    "    fig.savefig(IMG_PATH + \"confusion_matrix.png\")"
   ]
  },
  {
   "cell_type": "code",
   "execution_count": 40,
   "metadata": {},
   "outputs": [],
   "source": [
    "# Calculate for McFadden's pseudo R-squared\n",
    "def logit(x, w):\n",
    "    return 1 / (1 + np.exp(-np.dot(x, w.T)))\n",
    "\n",
    "\n",
    "def log_likelihood(w, X, y):\n",
    "    \"\"\"Function that calculates for the log-likelihood given weight, X, and y.\"\"\"\n",
    "    ll = 0\n",
    "    for idx in range(len(y)):\n",
    "        proba = np.power(logit(X[idx], w), y[idx]) + np.power((1 - logit(X[idx], w)), 1 - y[idx])\n",
    "        ll += proba\n",
    "    return ll\n",
    "\n",
    "\n",
    "def mcfadden_rsquared(trained_weight, null_weight, X, y):\n",
    "    trained_log_likelihood = log_likelihood(trained_weight, X, y)\n",
    "    null_log_likelihood = log_likelihood(null_weight, X, y)\n",
    "    return 1.0 - (trained_log_likelihood / null_log_likelihood)"
   ]
  },
  {
   "cell_type": "code",
   "execution_count": 41,
   "metadata": {},
   "outputs": [],
   "source": [
    "# ROC-AUC Curve\n",
    "def plot_roc(nn: LogisticRegression, X, y_truth, pos_label, title):\n",
    "    # Calculate for score of this model based on X.\n",
    "    y_predicted_prob = nn.predict_proba(X)\n",
    "    y_predicted_prob = np.array([p[0] for p in y_predicted_prob])\n",
    "    fpr, tpr, threshold = roc_curve(y_truth, y_predicted_prob, pos_label=pos_label)\n",
    "    roc_auc = roc_auc_score([1 if p == pos_label else 0 for p in y_truth], y_predicted_prob)\n",
    "    roc_plot = sns.lineplot(x=\"False Positive Rate\", y=\"True Positive Rate\", data={\"False Positive Rate\": fpr, \"True Positive Rate\": tpr})\n",
    "    roc_plot.set_title(title + f\"\\nAUC: {roc_auc}\")\n",
    "    roc_plot.set_xlabel(\"False Positive Rate\")\n",
    "    roc_plot.set_ylabel(\"True Positive Rate\")\n",
    "    fig = roc_plot.get_figure()\n",
    "    fig.savefig(IMG_PATH + f\"{title}.png\")"
   ]
  },
  {
   "cell_type": "code",
   "execution_count": 42,
   "metadata": {},
   "outputs": [
    {
     "name": "stdout",
     "output_type": "stream",
     "text": [
      "----- Confusion Matrix -----\n",
      "True Negative: 11440 False Positive: 241\n",
      "False Negative: 311 True Positive: 8008\n"
     ]
    },
    {
     "data": {
      "image/png": "[encoded data removed]",
      "text/plain": [
       "<Figure size 432x288 with 2 Axes>"
      ]
     },
     "metadata": {
      "needs_background": "light"
     },
     "output_type": "display_data"
    }
   ],
   "source": [
    "# Plot confusion matrix.\n",
    "true_positive, false_positive, true_negative, false_negative = confusion_matrix(y_hat_gender, y_gender, \"female\")\n",
    "plot_confusion_matrix(true_negative, false_positive, false_negative, true_positive, [\"male\", \"female\"])"
   ]
  },
  {
   "cell_type": "code",
   "execution_count": 43,
   "metadata": {},
   "outputs": [
    {
     "name": "stdout",
     "output_type": "stream",
     "text": [
      "McFadden's pseudo R-squared: 0.31467801021392716\n"
     ]
    }
   ],
   "source": [
    "# Compute pseudo r-squared\n",
    "y_numeric = [0 if g == \"male\" else 1 for g in y_gender]\n",
    "null_weight = np.array([1.0 if i == 0 else 0.0 for i in range(X.shape[1])])\n",
    "print(f\"McFadden's pseudo R-squared: {mcfadden_rsquared(nn_gender.coef_, null_weight, X, y_numeric)[0]}\")\n",
    "# value from 0.2-0.4 is excellent fit!!"
   ]
  },
  {
   "cell_type": "code",
   "execution_count": 44,
   "metadata": {},
   "outputs": [
    {
     "data": {
      "image/png": "[encoded data removed]",
      "text/plain": [
       "<Figure size 432x288 with 1 Axes>"
      ]
     },
     "metadata": {
      "needs_background": "light"
     },
     "output_type": "display_data"
    }
   ],
   "source": [
    "# Create ROC\n",
    "plot_roc(nn_gender, X, y_gender, pos_label=\"female\", title=\"ROC for nn_gender\")"
   ]
  },
  {
   "cell_type": "code",
   "execution_count": 45,
   "metadata": {},
   "outputs": [
    {
     "name": "stdout",
     "output_type": "stream",
     "text": [
      "              precision    recall  f1-score   support\n",
      "\n",
      "      female       0.96      0.97      0.97      8249\n",
      "        male       0.98      0.97      0.98     11751\n",
      "\n",
      "    accuracy                           0.97     20000\n",
      "   macro avg       0.97      0.97      0.97     20000\n",
      "weighted avg       0.97      0.97      0.97     20000\n",
      "\n"
     ]
    }
   ],
   "source": [
    "# Model Report\n",
    "print(classification_report(y_gender, y_hat_gender))"
   ]
  }
 ],
 "metadata": {
  "kernelspec": {
   "display_name": "Python 3",
   "language": "python",
   "name": "python3"
  },
  "language_info": {
   "codemirror_mode": {
    "name": "ipython",
    "version": 3
   },
   "file_extension": ".py",
   "mimetype": "text/x-python",
   "name": "python",
   "nbconvert_exporter": "python",
   "pygments_lexer": "ipython3",
   "version": "3.7.2"
  }
 },
 "nbformat": 4,
 "nbformat_minor": 2
}
